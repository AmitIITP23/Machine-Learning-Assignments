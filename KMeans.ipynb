{
 "cells": [
  {
   "cell_type": "code",
   "execution_count": 149,
   "id": "6cacd895",
   "metadata": {},
   "outputs": [],
   "source": [
    "import numpy as np\n",
    "import pandas as pd\n",
    "import random\n"
   ]
  },
  {
   "cell_type": "code",
   "execution_count": 150,
   "id": "ab78546c",
   "metadata": {},
   "outputs": [],
   "source": [
    "K=4"
   ]
  },
  {
   "cell_type": "code",
   "execution_count": 151,
   "id": "565db2a1",
   "metadata": {},
   "outputs": [],
   "source": [
    "dataset=pd.read_csv('BR_mod.csv')"
   ]
  },
  {
   "cell_type": "code",
   "execution_count": 152,
   "id": "058c102b",
   "metadata": {},
   "outputs": [],
   "source": [
    "clusters={}\n",
    "for i in range(K):\n",
    "    clusters[i+1]=[]\n",
    "centroids={}"
   ]
  },
  {
   "cell_type": "code",
   "execution_count": 153,
   "id": "2e96b0e0",
   "metadata": {},
   "outputs": [],
   "source": [
    "dataset.fillna(method='ffill',limit=54,inplace= True)\n",
    "dataset.fillna(method='bfill',limit=54,inplace= True)\n",
    "dataset.fillna(method='ffill',limit=54,inplace= True)\n",
    "dataset.fillna(method='bfill',limit=54,inplace= True)"
   ]
  },
  {
   "cell_type": "code",
   "execution_count": 154,
   "id": "ae8904e6",
   "metadata": {},
   "outputs": [],
   "source": [
    "for i in range(K):\n",
    "    centroids[i+1]=dataset.loc[random.randint(0,dataset.shape[0]-1),:].values"
   ]
  },
  {
   "cell_type": "code",
   "execution_count": 155,
   "id": "3db5f104",
   "metadata": {},
   "outputs": [
    {
     "name": "stdout",
     "output_type": "stream",
     "text": [
      "[77.  0.  3.  1.  1.  2.  1.  1.  0.  0.  1. 11.  0.  0.  1.  0.  0.  2.\n",
      "  5.  0.  5.  4.  0. 14.]\n",
      "[72.  0.  3.  1.  1.  2.  1.  1.  0.  0.  1. 16.  0.  2.  9.  0.  0.  2.\n",
      "  8.  0. 10.  5.  0. 14.]\n",
      "[61.  1.  3.  1.  1.  0.  1.  7.  0.  0.  0. 11.  0.  2.  1.  0.  0.  2.\n",
      "  6.  0.  5.  5.  0.  4.]\n",
      "[50.   0.8  3.   1.   1.   0.   1.   1.   0.   6.   0.   7.   0.   3.\n",
      "  1.   0.   0.   2.   6.   0.   8.   5.   0.  17. ]\n"
     ]
    }
   ],
   "source": [
    "for i in centroids:\n",
    "    print(centroids[i])"
   ]
  },
  {
   "cell_type": "code",
   "execution_count": 156,
   "id": "7e7252b5",
   "metadata": {},
   "outputs": [],
   "source": [
    "for i in range(dataset.shape[0]):\n",
    "    distFromCentroid1=np.sqrt(np.sum([(a-b)*(a-b) for a, b in zip(centroids[1], dataset.iloc[i,:].values)]))\n",
    "    #print(distFromCentroid1)\n",
    "    distFromCentroid2=np.sqrt(np.sum([(a-b)*(a-b) for a, b in zip(centroids[2], dataset.iloc[i,:].values)]))\n",
    "    #print(distFromCentroid2)\n",
    "    distFromCentroid3=np.sqrt(np.sum([(a-b)*(a-b) for a, b in zip(centroids[3], dataset.iloc[i,:].values)]))\n",
    "    #print(distFromCentroid3)\n",
    "    distFromCentroid4=np.sqrt(np.sum([(a-b)*(a-b) for a, b in zip(centroids[4], dataset.iloc[i,:].values)]))\n",
    "    #print(distFromCentroid1)\n",
    "    minDistance=min(distFromCentroid1,distFromCentroid2,distFromCentroid3,distFromCentroid4)\n",
    "    if(minDistance==distFromCentroid1):\n",
    "        clusters[1].append(dataset.iloc[i,:].values)\n",
    "    elif(minDistance==distFromCentroid2):\n",
    "        clusters[2].append(dataset.iloc[i,:].values)\n",
    "    elif(minDistance==distFromCentroid3):\n",
    "        clusters[3].append(dataset.iloc[i,:].values)\n",
    "    elif(minDistance==distFromCentroid4):\n",
    "        clusters[4].append(dataset.iloc[i,:].values)\n",
    "\n",
    "\n",
    "    \n",
    "    "
   ]
  },
  {
   "cell_type": "code",
   "execution_count": 157,
   "id": "11f7a6fd",
   "metadata": {},
   "outputs": [],
   "source": [
    "for i in range(100):\n",
    "    df1=pd.DataFrame(clusters[1])\n",
    "    df2=pd.DataFrame(clusters[2])\n",
    "    df3=pd.DataFrame(clusters[3])\n",
    "    df4=pd.DataFrame(clusters[4])\n",
    "    newCentroid1=df1.mean()\n",
    "    centroids[1]=newCentroid1\n",
    "    newCentroid2=df2.mean()\n",
    "    centroids[2]=newCentroid2\n",
    "    newCentroid3=df3.mean()\n",
    "    centroids[3]=newCentroid3\n",
    "    newCentroid4=df4.mean()\n",
    "    centroids[4]=newCentroid4\n",
    "    for i in range(K):\n",
    "        clusters[i+1]=[]\n",
    "    for i in range(dataset.shape[0]):\n",
    "        distFromCentroid1=np.sqrt(np.sum([(a-b)*(a-b) for a, b in zip(centroids[1], dataset.iloc[i,:].values)]))\n",
    "        distFromCentroid2=np.sqrt(np.sum([(a-b)*(a-b) for a, b in zip(centroids[2], dataset.iloc[i,:].values)]))\n",
    "        distFromCentroid3=np.sqrt(np.sum([(a-b)*(a-b) for a, b in zip(centroids[3], dataset.iloc[i,:].values)]))\n",
    "        distFromCentroid4=np.sqrt(np.sum([(a-b)*(a-b) for a, b in zip(centroids[4], dataset.iloc[i,:].values)]))\n",
    "        minDistance=min(distFromCentroid1,distFromCentroid2,distFromCentroid3,distFromCentroid4)\n",
    "    \n",
    "        if(minDistance==distFromCentroid1):\n",
    "            clusters[1].append(dataset.iloc[i,:].values)\n",
    "        elif(minDistance==distFromCentroid2):\n",
    "            clusters[2].append(dataset.iloc[i,:].values)\n",
    "        elif(minDistance==distFromCentroid3):\n",
    "            clusters[3].append(dataset.iloc[i,:].values)\n",
    "        elif(minDistance==distFromCentroid4):\n",
    "            clusters[4].append(dataset.iloc[i,:].values)\n",
    "    "
   ]
  },
  {
   "cell_type": "code",
   "execution_count": 158,
   "id": "349323a5",
   "metadata": {},
   "outputs": [
    {
     "name": "stdout",
     "output_type": "stream",
     "text": [
      "235\n",
      "#####################################################################################\n",
      "169\n",
      "#####################################################################################\n",
      "374\n",
      "#####################################################################################\n",
      "319\n",
      "#####################################################################################\n"
     ]
    }
   ],
   "source": [
    "for i in clusters:\n",
    "    print(len(clusters[i]))\n",
    "    \n",
    "    print('#####################################################################################')"
   ]
  },
  {
   "cell_type": "code",
   "execution_count": null,
   "id": "a45514cc",
   "metadata": {},
   "outputs": [],
   "source": []
  }
 ],
 "metadata": {
  "kernelspec": {
   "display_name": "Python 3",
   "language": "python",
   "name": "python3"
  },
  "language_info": {
   "codemirror_mode": {
    "name": "ipython",
    "version": 3
   },
   "file_extension": ".py",
   "mimetype": "text/x-python",
   "name": "python",
   "nbconvert_exporter": "python",
   "pygments_lexer": "ipython3",
   "version": "3.8.8"
  }
 },
 "nbformat": 4,
 "nbformat_minor": 5
}
